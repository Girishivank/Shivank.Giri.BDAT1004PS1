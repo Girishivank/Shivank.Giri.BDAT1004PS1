{
  "nbformat": 4,
  "nbformat_minor": 0,
  "metadata": {
    "colab": {
      "provenance": []
    },
    "kernelspec": {
      "name": "python3",
      "display_name": "Python 3"
    },
    "language_info": {
      "name": "python"
    }
  },
  "cells": [
    {
      "cell_type": "markdown",
      "source": [
        "### **Question 1**\n",
        "What data type is each of the following (evaluate where necessary)?\n",
        "\n",
        "\n",
        "\n",
        "```\n",
        "5\n",
        "5.0\n",
        "5 > 1\n",
        "'5'\n",
        "5 * 2\n",
        "'5' * 2\n",
        "'5' + '2'\n",
        "5 / 2\n",
        "5 % 2\n",
        "{5, 2, 1}\n",
        "5 == 3\n",
        "Pi (the number)\n",
        "\n",
        "```\n",
        "\n"
      ],
      "metadata": {
        "id": "R4ZJLXivq1hh"
      }
    },
    {
      "cell_type": "code",
      "source": [
        "import math\n",
        "#We can use type() function in python to check the data type\n",
        "print(type(5))\n",
        "print(type(5.0))\n",
        "print(type(5 > 1))\n",
        "print(type('5'))\n",
        "print(type(5 * 2))\n",
        "print(type('5' * 2))\n",
        "print(type('5' + '2'))\n",
        "print(type(5 / 2))\n",
        "print(type(5 % 2))\n",
        "print(type({5, 2, 1}))\n",
        "print(type(5 == 3))\n",
        "print(type(math.pi)) #using math library in python for the value of pi"
      ],
      "metadata": {
        "colab": {
          "base_uri": "https://localhost:8080/"
        },
        "id": "J_vhx767rCer",
        "outputId": "b5f5ebdc-50d8-46d4-98f6-67e8a0dd5c90"
      },
      "execution_count": null,
      "outputs": [
        {
          "output_type": "stream",
          "name": "stdout",
          "text": [
            "<class 'int'>\n",
            "<class 'float'>\n",
            "<class 'bool'>\n",
            "<class 'str'>\n",
            "<class 'int'>\n",
            "<class 'str'>\n",
            "<class 'str'>\n",
            "<class 'float'>\n",
            "<class 'int'>\n",
            "<class 'set'>\n",
            "<class 'bool'>\n",
            "<class 'float'>\n"
          ]
        }
      ]
    },
    {
      "cell_type": "markdown",
      "source": [
        "### **Question 2**\n",
        "\n",
        "Write (and evaluate) python expressions that answer these questions:\n",
        "\n",
        "a. How many letters are there in 'Supercalifragilisticexpialidocious'?\n",
        "\n",
        "b. Does 'Supercalifragilisticexpialidocious' contain 'ice' as a substring?\n",
        "\n",
        "c. Which of the following words is the longest:\n",
        "Supercalifragilisticexpialidocious, Honorificabilitudinitatibus, or\n",
        "Bababadalgharaghtakamminarronnkonn?\n",
        "\n",
        "d. Which composer comes first in the dictionary: 'Berlioz', 'Borodin', 'Brian',\n",
        "'Bartok', 'Bellini', 'Buxtehude', 'Bernstein'. Which one comes last?"
      ],
      "metadata": {
        "id": "Z8BczabusP8_"
      }
    },
    {
      "cell_type": "code",
      "source": [
        "# a. How many letters are there in 'Supercalifragilisticexpialidocious'?\n",
        "word = 'Supercalifragilisticexpialidocious'\n",
        "print(len(word)) #Ans. 34 letters\n",
        "\n",
        "# b. Does 'Supercalifragilisticexpialidocious' contain 'ice' as a substring?\n",
        "print('ice' in word) # Yes\n",
        "\n",
        "#c. Which of the following words is the longest: Supercalifragilisticexpialidocious, Honorificabilitudinitatibus, or Bababadalgharaghtakamminarronnkonn?\n",
        "word1 = \"Supercalifragilisticexpialidocious\"\n",
        "word2 = \"Honorificabilitudinitatibus\"\n",
        "word3 = \"Bababadalgharaghtakamminarronnkonn\"\n",
        "\n",
        "longest_word = max(word1, word2, word3, key=len)\n",
        "print(\"The longest word is:\", longest_word) # longest word - Supercalifragilisticexpialidocious\n",
        "\n",
        "#d. Which composer comes first in the dictionary: 'Berlioz', 'Borodin', 'Brian', 'Bartok', 'Bellini', 'Buxtehude', 'Bernstein'. Which one comes last?\n",
        "composers = 'Berlioz', 'Borodin', 'Brian', 'Bartok', 'Bellini', 'Buxtehude', 'Bernstein'\n",
        "print(max(composers), min(composers)) # First - Buxtehude, last - Bartok"
      ],
      "metadata": {
        "colab": {
          "base_uri": "https://localhost:8080/"
        },
        "id": "XPiUD2B8rtZb",
        "outputId": "85bebba3-47c1-4067-e7ca-e49eb4ef7f61"
      },
      "execution_count": null,
      "outputs": [
        {
          "output_type": "stream",
          "name": "stdout",
          "text": [
            "34\n",
            "True\n",
            "The longest word is: Supercalifragilisticexpialidocious\n",
            "Buxtehude Bartok\n"
          ]
        }
      ]
    },
    {
      "cell_type": "markdown",
      "source": [],
      "metadata": {
        "id": "5SIL9JxDtqqD"
      }
    },
    {
      "cell_type": "markdown",
      "source": [
        "### **Question 3**\n",
        "\n",
        "Implement function triangleArea(a,b,c) that takes as input the lengths of the 3\n",
        "sides of a triangle and returns the area of the triangle. By Heron's formula, the area of a triangle with side lengths a, b, and c is\n",
        "√s(s - a)(s -b)(s -c),\n",
        "\n",
        "where s = (a+b+c)/2.\n",
        "\n",
        "\n",
        "\n",
        "```\n",
        ">>> triangleArea(2,2,2)\n",
        "1.7320508075688772\n",
        "\n",
        "```\n",
        "\n"
      ],
      "metadata": {
        "id": "9IvFuwCuAxlt"
      }
    },
    {
      "cell_type": "code",
      "source": [
        "import math\n",
        "def triangleArea(a,b,c):\n",
        "  s = (a+b+c)/2\n",
        "  area = math.sqrt(s*(s-a)*(s-b)*(s-c))\n",
        "\n",
        "  return area\n",
        "\n",
        "triangleArea(2,2,2)"
      ],
      "metadata": {
        "id": "Q37D-NVRtFaF",
        "colab": {
          "base_uri": "https://localhost:8080/"
        },
        "outputId": "69a00a67-4e34-4761-c48a-76bf7930ea0f"
      },
      "execution_count": null,
      "outputs": [
        {
          "output_type": "execute_result",
          "data": {
            "text/plain": [
              "1.7320508075688772"
            ]
          },
          "metadata": {},
          "execution_count": 3
        }
      ]
    },
    {
      "cell_type": "markdown",
      "source": [
        "### **Question 4**\n",
        "\n",
        "Write a program in python to separate odd and even integers in separate arrays.\n",
        "\n",
        "Go to the editor\n",
        "\n",
        "Test Data :\n",
        "\n",
        "Input the number of elements to be stored in the array :5\n",
        "\n",
        "Input 5 elements in the array :\n",
        "\n",
        "element - 0 : 25\n",
        "\n",
        "element - 1 : 47\n",
        "\n",
        "element - 2 : 42\n",
        "\n",
        "element - 3 : 56\n",
        "\n",
        "element - 4 : 32\n",
        "\n",
        "Expected Output:\n",
        "\n",
        "The Even elements are: 42 56 32\n",
        "\n",
        "The Odd elements are : 25 47\n"
      ],
      "metadata": {
        "id": "66wU4pQJDIyG"
      }
    },
    {
      "cell_type": "code",
      "source": [
        "elements = []\n",
        "n = 0\n",
        "while n < 5:\n",
        "  num = int(input(f'Element {n} = '))\n",
        "  elements.append(num)\n",
        "  n += 1\n",
        "\n",
        "even = []\n",
        "odd = []\n",
        "\n",
        "for element in elements:\n",
        "  if element % 2 == 0:\n",
        "    even.append(element)\n",
        "  else:\n",
        "    odd.append(element)\n",
        "\n",
        "print(\"Even elements:\", even)\n",
        "print(\"Odd elements:\", odd)\n"
      ],
      "metadata": {
        "colab": {
          "base_uri": "https://localhost:8080/"
        },
        "id": "GfnHjWv7CRWo",
        "outputId": "99933157-e1cf-4ff6-8de5-e3c5ba966454"
      },
      "execution_count": null,
      "outputs": [
        {
          "output_type": "stream",
          "name": "stdout",
          "text": [
            "Element 0 = 25\n",
            "Element 1 = 47\n",
            "Element 2 = 42\n",
            "Element 3 = 56\n",
            "Element 4 = 32\n",
            "Even elements: [42, 56, 32]\n",
            "Odd elements: [25, 47]\n"
          ]
        }
      ]
    },
    {
      "cell_type": "markdown",
      "source": [
        "### **Question 5**\n",
        "a. Write a function inside(x,y,x1,y1,x2,y2) that returns True or False\n",
        "depending on whether the point (x,y) lies in the rectangle with lower left\n",
        "corner (x1,y1) and upper right corner (x2,y2).\n",
        "```\n",
        ">>> inside(1,1,0,0,2,3)\n",
        "True\n",
        ">>> inside(-1,-1,0,0,2,3)\n",
        "False\n",
        "\n",
        "```\n",
        "\n",
        "\n",
        "b. Use function inside() from part a. to write an expression that tests whether\n",
        "the point (1,1) lies in both of the following rectangles: one with lower left\n",
        "corner (0.3, 0.5) and upper right corner (1.1, 0.7) and the other with lower\n",
        "left corner (0.5, 0.2) and upper right corner (1.1, 2)."
      ],
      "metadata": {
        "id": "7GAlg5HYHlTy"
      }
    },
    {
      "cell_type": "code",
      "source": [
        "def inside(x, y, x1, y1, x2, y2):\n",
        "    if x1 <= x <= x2 and y1 <= y <= y2:\n",
        "        return True\n",
        "    else:\n",
        "        return False\n",
        "\n",
        "print(inside(1,1,0,0,2,3))\n",
        "print(inside(-1,-1,0,0,2,3))"
      ],
      "metadata": {
        "id": "7hXfNWNIEdHH",
        "colab": {
          "base_uri": "https://localhost:8080/"
        },
        "outputId": "577616fe-d2ca-4dbe-c1f5-c21a7883ff6e"
      },
      "execution_count": null,
      "outputs": [
        {
          "output_type": "stream",
          "name": "stdout",
          "text": [
            "True\n",
            "False\n"
          ]
        }
      ]
    },
    {
      "cell_type": "markdown",
      "source": [
        "### **Question 6**\n",
        "You can turn a word into pig-Latin using the following two rules (simplified):\n",
        "\n",
        "• If the word starts with a consonant, move that letter to the end and append\n",
        "'ay'. For example, 'happy' becomes 'appyhay' and 'pencil' becomes 'encilpay'.\n",
        "\n",
        "• If the word starts with a vowel, simply append 'way' to the end of the word.\n",
        "For example, 'enter' becomes 'enterway' and 'other' becomes 'otherway' . For\n",
        "our purposes, there are 5 vowels: a, e, i, o, u (so we count y as a consonant).\n",
        "\n",
        "Write a function pig() that takes a word (i.e., a string) as input and returns its pig\u0002Latin form. Your function should still work if the input word contains upper case characters. Your output should always be lower case however.\n",
        "\n",
        "\n",
        "```\n",
        ">>> pig('happy')\n",
        "'appyhay'\n",
        ">>> pig('Enter')\n",
        "'enterway'\n",
        "```\n",
        "\n"
      ],
      "metadata": {
        "id": "Lp6sUN6rIMs2"
      }
    },
    {
      "cell_type": "code",
      "source": [
        "vowels = ['a','e','i','o','u']\n",
        "def pig(word):\n",
        "  word = word.lower()\n",
        "  if word[0] in vowels:\n",
        "    pig_latin = word + 'way'\n",
        "  else:\n",
        "    pig_latin = word[1:] + word[0] + 'ay'\n",
        "\n",
        "  return pig_latin\n",
        "\n",
        "print(pig('Enter'))\n",
        "print(pig('happy'))"
      ],
      "metadata": {
        "colab": {
          "base_uri": "https://localhost:8080/"
        },
        "id": "3PypdUdqHdUs",
        "outputId": "2f507436-42d9-4a68-cbb4-2bad099a5f93"
      },
      "execution_count": null,
      "outputs": [
        {
          "output_type": "stream",
          "name": "stdout",
          "text": [
            "enterway\n",
            "appyhay\n"
          ]
        }
      ]
    },
    {
      "cell_type": "markdown",
      "source": [
        "## **Question 7**\n",
        "\n",
        "File bloodtype1.txt records blood-types of patients (A, B, AB, O or OO) at a clinic.\n",
        "\n",
        "Write a function bldcount() that reads the file with name name and reports (i.e.,\n",
        "prints) how many patients there are in each bloodtype.\n",
        "\n",
        "\n",
        "```\n",
        ">>> bldcount('bloodtype.txt')\n",
        "There are 10 patients of blood type A.\n",
        "There is one patient of blood type B.\n",
        "There are 10 patients of blood type AB.\n",
        "There are 12 patients of blood type O.\n",
        "There are no patients of blood type OO.\n",
        "```\n",
        "\n",
        "\n"
      ],
      "metadata": {
        "id": "_k-GQWdddw8K"
      }
    },
    {
      "cell_type": "code",
      "source": [
        "def bldcount(bloodcount):\n",
        "    blood_count = {'A': 0, 'B': 0, 'AB': 0, 'O': 0, 'OO': 0}\n",
        "\n",
        "    with open(bloodcount, 'r') as file:\n",
        "        blood_types = file.read().split()\n",
        "\n",
        "    for blood_type in blood_types:\n",
        "        blood_count[blood_type] += 1\n",
        "\n",
        "    for blood_type, count in blood_count.items():\n",
        "        if count == 0:\n",
        "            print(f\"There are no patients of blood type {blood_type}.\")\n",
        "        elif count == 1:\n",
        "            print(f\"There is one patient of blood type {blood_type}.\")\n",
        "        else:\n",
        "            print(f\"There are {count} patients of blood type {blood_type}.\")\n",
        "\n",
        "bldcount('bloodtype1.txt')\n"
      ],
      "metadata": {
        "colab": {
          "base_uri": "https://localhost:8080/"
        },
        "id": "Uf7Py1_Ze18H",
        "outputId": "b9cc028e-5dd2-44c2-ce50-1a59c07f69fc"
      },
      "execution_count": 6,
      "outputs": [
        {
          "output_type": "stream",
          "name": "stdout",
          "text": [
            "There are 15 patients of blood type A.\n",
            "There is one patient of blood type B.\n",
            "There are 13 patients of blood type AB.\n",
            "There are 15 patients of blood type O.\n",
            "There are no patients of blood type OO.\n"
          ]
        }
      ]
    },
    {
      "cell_type": "markdown",
      "source": [
        "## **Question 8**\n",
        "\n",
        "Write a function curconv() that takes as input:\n",
        "\n",
        "1. a currency represented using a string (e.g., 'JPY' for the Japanese Yen or 'EUR' for the Euro)\n",
        "\n",
        "2. an amount\n",
        "\n",
        "and then converts and returns the amount in US dollars.\n",
        "\n",
        "\n",
        "```\n",
        ">>> curconv('EUR', 100)\n",
        "122.96544\n",
        ">>> curconv('JPY', 100)\n",
        "1.241401\n",
        "```\n",
        "The currency rates you will need are stored in file currencies.txt:\n",
        "\n",
        "AUD 1.0345157 Australian Dollar\n",
        "\n",
        "CHF 1.0237414 Swiss Franc\n",
        "\n",
        "CNY 0.1550176 Chinese Yuan\n",
        "\n",
        "DKK 0.1651442 Danish Krone\n",
        "\n",
        "EUR 1.2296544 Euro\n",
        "\n",
        "GBP 1.5550989 British Pound\n",
        "\n",
        "HKD 0.1270207 Hong Kong Dollar\n",
        "\n",
        "INR 0.0177643 Indian Rupee\n",
        "\n",
        "JPY 0.01241401 Japanese Yen\n",
        "\n",
        "MXN 0.0751848 Mexican Peso\n",
        "\n",
        "MYR 0.3145411 Malaysian Ringgit\n",
        "\n",
        "NOK 0.1677063 Norwegian Krone\n",
        "\n",
        "NZD 0.8003591 New Zealand Dollar\n",
        "\n",
        "PHP 0.0233234 Philippine Peso\n",
        "\n",
        "SEK 0.148269 Swedish Krona\n",
        "\n",
        "SGD 0.788871 Singapore Dollar\n",
        "\n",
        "THB 0.0313789 Thai Baht"
      ],
      "metadata": {
        "id": "_bUZIq1DfvqR"
      }
    },
    {
      "cell_type": "code",
      "source": [
        "def curconv(currency, amount):\n",
        "    with open('currencies.txt', 'r') as file:\n",
        "        lines = file.readlines()\n",
        "    rates = {}\n",
        "    for line in lines:\n",
        "        code, rate = line.split()[:2]\n",
        "        rates[code] = float(rate)\n",
        "    if currency in rates:\n",
        "        usd_amount = amount * rates[currency]\n",
        "        return usd_amount\n",
        "    else:\n",
        "        return \"Currency not found.\"\n",
        "usd_amount_eur = curconv('EUR', 100)\n",
        "print(usd_amount_eur)  # Output: 122.96544\n",
        "usd_amount_jpy = curconv('JPY', 100)\n",
        "print(usd_amount_jpy)  # Output: 1.241401"
      ],
      "metadata": {
        "colab": {
          "base_uri": "https://localhost:8080/"
        },
        "id": "c0_BPUsffhyb",
        "outputId": "be3c468d-7af2-4936-99b2-9e9046da1d5e"
      },
      "execution_count": 11,
      "outputs": [
        {
          "output_type": "stream",
          "name": "stdout",
          "text": [
            "122.96544\n",
            "1.241401\n"
          ]
        }
      ]
    },
    {
      "cell_type": "markdown",
      "source": [
        "## **Question 9**\n",
        "Each of the following will cause an exception (an error). Identify what type of exception each will cause.\n",
        "\n",
        "Trying to add incompatible variables, as in\n",
        "adding 6 + ‘a’\n",
        "\n",
        "Referring to the 12th item of a list that has only 10\n",
        "items\n",
        "\n",
        "Using a value that is out of range for a function’s\n",
        "input, such as calling math.sqrt(-1.0)\n",
        "\n",
        "Using an undeclared variable, such as print(x)\n",
        "\n",
        "when x has not been defined\n",
        "\n",
        "Trying to open a file that does not exist, such as\n",
        "mistyping the file name or looking in the wrong\n",
        "directory.\n"
      ],
      "metadata": {
        "id": "eQcQBoZUhfjD"
      }
    },
    {
      "cell_type": "markdown",
      "source": [
        "### **Answer.**\n",
        "Here are the types of exceptions that each scenario will cause:\n",
        "\n",
        "1. Trying to add incompatible variables, as in adding 6 + 'a':\n",
        "Type of exception: TypeError\n",
        "Explanation: The TypeError occurs when you try to perform an operation on incompatible or unsupported types.\n",
        "\n",
        "2. Referring to the 12th item of a list that has only 10 items:\n",
        "Type of exception: IndexError\n",
        "Explanation: The IndexError occurs when you try to access an index that is out of range for a sequence, such as a list or string.\n",
        "\n",
        "3. Using a value that is out of range for a function's input, such as calling math.sqrt(-1.0):\n",
        "Type of exception: ValueError (specifically, math domain error)\n",
        "Explanation: The ValueError occurs when you provide an invalid value as an argument to a function, and in this case, calling math.sqrt(-1.0) results in a math domain error because the square root of a negative number is undefined in the real number system.\n",
        "\n",
        "4. Using an undeclared variable, such as print(x) when x has not been defined:\n",
        "Type of exception: NameError\n",
        "Explanation: The NameError occurs when you try to use a variable or name that has not been defined or is not in the current scope.\n",
        "\n",
        "5. Trying to open a file that does not exist, such as mistyping the file name or looking in the wrong directory:\n",
        "Type of exception: FileNotFoundError\n",
        "Explanation: The FileNotFoundError occurs when you try to open a file that does not exist at the specified path or directory."
      ],
      "metadata": {
        "id": "QAISc3d5h58o"
      }
    },
    {
      "cell_type": "markdown",
      "source": [
        "## **Question 10**\n",
        "Encryption is the process of hiding the meaning of a text by substituting letters in the message with other letters, according to some system. If the process is successful, no\n",
        "one but the intended recipient can understand the encrypted message. Cryptanalysis refers to attempts to undo the encryption, even if some details of the encryption are\n",
        "unknown (for example, if an encrypted message has been intercepted).\n",
        "\n",
        "The first step of cryptanalysis is often to build up a table of letter frequencies in the encrypted text.\n",
        "Assume that the string letters is already defined as\n",
        "'abcdefghijklmnopqrstuvwxyz'. Write a function called frequencies() that takes a string as its only parameter, and returns a list of integers, showing the number of times each character appears in the text. Your function may ignore any\n",
        "characters that are not in letters.\n",
        "\n",
        "\n",
        "```\n",
        ">>> frequencies('The quick red fox got bored and went home.')\n",
        "[1, 1, 1, 3, 5, 1, 1, 2, 1, 0, 1, 0, 1, 2, 4, 0, 1, 2, 0, 2,\n",
        "1, 0, 1, 1, 0, 0]\n",
        ">>> frequencies('apple')\n",
        "```\n",
        "\n"
      ],
      "metadata": {
        "id": "iagDy6xoiuQ2"
      }
    },
    {
      "cell_type": "code",
      "source": [
        "def frequencies(text):\n",
        "    letters = 'abcdefghijklmnopqrstuvwxyz'\n",
        "    freq_dict = {}\n",
        "\n",
        "    for char in text.lower():\n",
        "        if char in letters:\n",
        "            freq_dict[char] = freq_dict.get(char, 0) + 1\n",
        "\n",
        "    freq_list = [freq_dict.get(char, 0) for char in letters]\n",
        "    return freq_list\n",
        "\n",
        "# Example usage\n",
        "result = frequencies('The quick red fox got bored and went home.')\n",
        "print(result)\n",
        "# Output: [1, 1, 1, 3, 5, 1, 1, 2, 1, 0, 1, 0, 1, 2, 4, 0, 1, 2, 0, 2, 1, 0, 1, 1, 0, 0]\n",
        "\n",
        "result = frequencies('apple')\n",
        "print(result)\n",
        "# Output: [1, 0, 0, 0, 1, 0, 0, 0, 0, 0, 0, 1, 0, 0, 1, 0, 0, 0, 0, 0, 0, 0, 0, 0, 0, 0]\n"
      ],
      "metadata": {
        "colab": {
          "base_uri": "https://localhost:8080/"
        },
        "id": "BZv6ifCdhHjc",
        "outputId": "97abba12-a22a-46e7-e55b-b71bbaa84c98"
      },
      "execution_count": 12,
      "outputs": [
        {
          "output_type": "stream",
          "name": "stdout",
          "text": [
            "[1, 1, 1, 3, 5, 1, 1, 2, 1, 0, 1, 0, 1, 2, 4, 0, 1, 2, 0, 3, 1, 0, 1, 1, 0, 0]\n",
            "[1, 0, 0, 0, 1, 0, 0, 0, 0, 0, 0, 1, 0, 0, 0, 2, 0, 0, 0, 0, 0, 0, 0, 0, 0, 0]\n"
          ]
        }
      ]
    },
    {
      "cell_type": "code",
      "source": [],
      "metadata": {
        "id": "Hl_lKP4ljSH-"
      },
      "execution_count": null,
      "outputs": []
    }
  ]
}